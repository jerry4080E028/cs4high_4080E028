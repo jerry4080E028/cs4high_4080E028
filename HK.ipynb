{
  "nbformat": 4,
  "nbformat_minor": 0,
  "metadata": {
    "colab": {
      "name": "HK.ipynb",
      "provenance": [],
      "include_colab_link": true
    },
    "kernelspec": {
      "name": "python3",
      "display_name": "Python 3"
    }
  },
  "cells": [
    {
      "cell_type": "markdown",
      "metadata": {
        "id": "view-in-github",
        "colab_type": "text"
      },
      "source": [
        "<a href=\"https://colab.research.google.com/github/jerry4080E028/cs4high_4080E028/blob/master/HK.ipynb\" target=\"_parent\"><img src=\"https://colab.research.google.com/assets/colab-badge.svg\" alt=\"Open In Colab\"/></a>"
      ]
    },
    {
      "cell_type": "code",
      "metadata": {
        "id": "htcJJ9XzGmas",
        "colab_type": "code",
        "colab": {
          "base_uri": "https://localhost:8080/",
          "height": 136
        },
        "outputId": "26e305f6-837d-4252-d69d-0b4bcde6f2ad"
      },
      "source": [
        "print(\"     *     \")\n",
        "print(\"    ***    \")\n",
        "print(\"   *****   \")\n",
        "print(\"     *     \")\n",
        "print(\"     *     \")\n",
        "print(\"     *     \")\n",
        "print(\"     *     \")"
      ],
      "execution_count": 1,
      "outputs": [
        {
          "output_type": "stream",
          "text": [
            "     *     \n",
            "    ***    \n",
            "   *****   \n",
            "     *     \n",
            "     *     \n",
            "     *     \n",
            "     *     \n"
          ],
          "name": "stdout"
        }
      ]
    }
  ]
}